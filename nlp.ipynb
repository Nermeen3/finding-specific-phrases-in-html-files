{
 "cells": [
  {
   "cell_type": "code",
   "execution_count": 15,
   "metadata": {},
   "outputs": [
    {
     "name": "stdout",
     "output_type": "stream",
     "text": [
      "['C:/Users/ninaz/Desktop/upwork/NLP Task/Data/1\\\\1750.html', 'C:/Users/ninaz/Desktop/upwork/NLP Task/Data/1\\\\1800.html', 'C:/Users/ninaz/Desktop/upwork/NLP Task/Data/1\\\\1923.html', 'C:/Users/ninaz/Desktop/upwork/NLP Task/Data/1\\\\2034.html', 'C:/Users/ninaz/Desktop/upwork/NLP Task/Data/1\\\\2098.html', 'C:/Users/ninaz/Desktop/upwork/NLP Task/Data/1\\\\2178.html', 'C:/Users/ninaz/Desktop/upwork/NLP Task/Data/1\\\\2186.html', 'C:/Users/ninaz/Desktop/upwork/NLP Task/Data/1\\\\2488.html', 'C:/Users/ninaz/Desktop/upwork/NLP Task/Data/1\\\\2491.html', 'C:/Users/ninaz/Desktop/upwork/NLP Task/Data/1\\\\2601.html', 'C:/Users/ninaz/Desktop/upwork/NLP Task/Data/1\\\\2969.html', 'C:/Users/ninaz/Desktop/upwork/NLP Task/Data/1\\\\3116.html', 'C:/Users/ninaz/Desktop/upwork/NLP Task/Data/1\\\\3197.html', 'C:/Users/ninaz/Desktop/upwork/NLP Task/Data/1\\\\3453.html', 'C:/Users/ninaz/Desktop/upwork/NLP Task/Data/1\\\\3499.html', 'C:/Users/ninaz/Desktop/upwork/NLP Task/Data/1\\\\3545.html', 'C:/Users/ninaz/Desktop/upwork/NLP Task/Data/1\\\\3570.html', 'C:/Users/ninaz/Desktop/upwork/NLP Task/Data/1\\\\3673.html', 'C:/Users/ninaz/Desktop/upwork/NLP Task/Data/1\\\\3952.html', 'C:/Users/ninaz/Desktop/upwork/NLP Task/Data/1\\\\3982.html', 'C:/Users/ninaz/Desktop/upwork/NLP Task/Data/1\\\\4127.html', 'C:/Users/ninaz/Desktop/upwork/NLP Task/Data/1\\\\4187.html', 'C:/Users/ninaz/Desktop/upwork/NLP Task/Data/1\\\\4281.html', 'C:/Users/ninaz/Desktop/upwork/NLP Task/Data/1\\\\4447.html', 'C:/Users/ninaz/Desktop/upwork/NLP Task/Data/1\\\\4457.html', 'C:/Users/ninaz/Desktop/upwork/NLP Task/Data/1\\\\4611.html', 'C:/Users/ninaz/Desktop/upwork/NLP Task/Data/1\\\\4904.html', 'C:/Users/ninaz/Desktop/upwork/NLP Task/Data/1\\\\4962.html', 'C:/Users/ninaz/Desktop/upwork/NLP Task/Data/1\\\\4977.html', 'C:/Users/ninaz/Desktop/upwork/NLP Task/Data/1\\\\5133.html', 'C:/Users/ninaz/Desktop/upwork/NLP Task/Data/2\\\\1750.html', 'C:/Users/ninaz/Desktop/upwork/NLP Task/Data/2\\\\1800.html', 'C:/Users/ninaz/Desktop/upwork/NLP Task/Data/2\\\\2034.html', 'C:/Users/ninaz/Desktop/upwork/NLP Task/Data/2\\\\2098.html', 'C:/Users/ninaz/Desktop/upwork/NLP Task/Data/2\\\\2178.html', 'C:/Users/ninaz/Desktop/upwork/NLP Task/Data/2\\\\2186.html', 'C:/Users/ninaz/Desktop/upwork/NLP Task/Data/2\\\\2488.html', 'C:/Users/ninaz/Desktop/upwork/NLP Task/Data/2\\\\2491.html', 'C:/Users/ninaz/Desktop/upwork/NLP Task/Data/2\\\\2969.html', 'C:/Users/ninaz/Desktop/upwork/NLP Task/Data/2\\\\3116.html', 'C:/Users/ninaz/Desktop/upwork/NLP Task/Data/2\\\\3197.html', 'C:/Users/ninaz/Desktop/upwork/NLP Task/Data/2\\\\3453.html', 'C:/Users/ninaz/Desktop/upwork/NLP Task/Data/2\\\\3499.html', 'C:/Users/ninaz/Desktop/upwork/NLP Task/Data/2\\\\3545.html', 'C:/Users/ninaz/Desktop/upwork/NLP Task/Data/2\\\\3570.html', 'C:/Users/ninaz/Desktop/upwork/NLP Task/Data/2\\\\3952.html', 'C:/Users/ninaz/Desktop/upwork/NLP Task/Data/2\\\\4127.html', 'C:/Users/ninaz/Desktop/upwork/NLP Task/Data/2\\\\4187.html', 'C:/Users/ninaz/Desktop/upwork/NLP Task/Data/2\\\\4281.html', 'C:/Users/ninaz/Desktop/upwork/NLP Task/Data/2\\\\4447.html', 'C:/Users/ninaz/Desktop/upwork/NLP Task/Data/2\\\\4457.html', 'C:/Users/ninaz/Desktop/upwork/NLP Task/Data/2\\\\4611.html', 'C:/Users/ninaz/Desktop/upwork/NLP Task/Data/2\\\\4904.html', 'C:/Users/ninaz/Desktop/upwork/NLP Task/Data/2\\\\4962.html', 'C:/Users/ninaz/Desktop/upwork/NLP Task/Data/2\\\\4977.html', 'C:/Users/ninaz/Desktop/upwork/NLP Task/Data/2\\\\5133.html', 'C:/Users/ninaz/Desktop/upwork/NLP Task/Data/2\\\\5272.html', 'C:/Users/ninaz/Desktop/upwork/NLP Task/Data/2\\\\5513.html', 'C:/Users/ninaz/Desktop/upwork/NLP Task/Data/2\\\\5768.html', 'C:/Users/ninaz/Desktop/upwork/NLP Task/Data/2\\\\5981.html', 'C:/Users/ninaz/Desktop/upwork/NLP Task/Data/3\\\\1750.html', 'C:/Users/ninaz/Desktop/upwork/NLP Task/Data/3\\\\1800.html', 'C:/Users/ninaz/Desktop/upwork/NLP Task/Data/3\\\\2034.html', 'C:/Users/ninaz/Desktop/upwork/NLP Task/Data/3\\\\2098.html', 'C:/Users/ninaz/Desktop/upwork/NLP Task/Data/3\\\\2178.html', 'C:/Users/ninaz/Desktop/upwork/NLP Task/Data/3\\\\2186.html', 'C:/Users/ninaz/Desktop/upwork/NLP Task/Data/3\\\\2488.html', 'C:/Users/ninaz/Desktop/upwork/NLP Task/Data/3\\\\2491.html', 'C:/Users/ninaz/Desktop/upwork/NLP Task/Data/3\\\\2969.html', 'C:/Users/ninaz/Desktop/upwork/NLP Task/Data/3\\\\3116.html', 'C:/Users/ninaz/Desktop/upwork/NLP Task/Data/3\\\\3197.html', 'C:/Users/ninaz/Desktop/upwork/NLP Task/Data/3\\\\3453.html', 'C:/Users/ninaz/Desktop/upwork/NLP Task/Data/3\\\\3499.html', 'C:/Users/ninaz/Desktop/upwork/NLP Task/Data/3\\\\3545.html', 'C:/Users/ninaz/Desktop/upwork/NLP Task/Data/3\\\\3570.html', 'C:/Users/ninaz/Desktop/upwork/NLP Task/Data/3\\\\3952.html', 'C:/Users/ninaz/Desktop/upwork/NLP Task/Data/3\\\\4127.html', 'C:/Users/ninaz/Desktop/upwork/NLP Task/Data/3\\\\4187.html', 'C:/Users/ninaz/Desktop/upwork/NLP Task/Data/3\\\\4281.html', 'C:/Users/ninaz/Desktop/upwork/NLP Task/Data/3\\\\4447.html', 'C:/Users/ninaz/Desktop/upwork/NLP Task/Data/3\\\\4457.html', 'C:/Users/ninaz/Desktop/upwork/NLP Task/Data/3\\\\4904.html', 'C:/Users/ninaz/Desktop/upwork/NLP Task/Data/3\\\\4962.html', 'C:/Users/ninaz/Desktop/upwork/NLP Task/Data/3\\\\4977.html', 'C:/Users/ninaz/Desktop/upwork/NLP Task/Data/3\\\\5133.html', 'C:/Users/ninaz/Desktop/upwork/NLP Task/Data/3\\\\5272.html', 'C:/Users/ninaz/Desktop/upwork/NLP Task/Data/3\\\\5513.html', 'C:/Users/ninaz/Desktop/upwork/NLP Task/Data/3\\\\5768.html', 'C:/Users/ninaz/Desktop/upwork/NLP Task/Data/3\\\\5981.html', 'C:/Users/ninaz/Desktop/upwork/NLP Task/Data/3\\\\6176.html', 'C:/Users/ninaz/Desktop/upwork/NLP Task/Data/4\\\\1750.html', 'C:/Users/ninaz/Desktop/upwork/NLP Task/Data/4\\\\1800.html', 'C:/Users/ninaz/Desktop/upwork/NLP Task/Data/4\\\\2034.html', 'C:/Users/ninaz/Desktop/upwork/NLP Task/Data/4\\\\2098.html', 'C:/Users/ninaz/Desktop/upwork/NLP Task/Data/4\\\\2178.html', 'C:/Users/ninaz/Desktop/upwork/NLP Task/Data/4\\\\2186.html', 'C:/Users/ninaz/Desktop/upwork/NLP Task/Data/4\\\\2488.html', 'C:/Users/ninaz/Desktop/upwork/NLP Task/Data/4\\\\2491.html', 'C:/Users/ninaz/Desktop/upwork/NLP Task/Data/4\\\\2969.html', 'C:/Users/ninaz/Desktop/upwork/NLP Task/Data/4\\\\3116.html', 'C:/Users/ninaz/Desktop/upwork/NLP Task/Data/4\\\\3197.html', 'C:/Users/ninaz/Desktop/upwork/NLP Task/Data/4\\\\3453.html', 'C:/Users/ninaz/Desktop/upwork/NLP Task/Data/4\\\\3499.html', 'C:/Users/ninaz/Desktop/upwork/NLP Task/Data/4\\\\3545.html', 'C:/Users/ninaz/Desktop/upwork/NLP Task/Data/4\\\\3570.html', 'C:/Users/ninaz/Desktop/upwork/NLP Task/Data/4\\\\4127.html', 'C:/Users/ninaz/Desktop/upwork/NLP Task/Data/4\\\\4187.html', 'C:/Users/ninaz/Desktop/upwork/NLP Task/Data/4\\\\4281.html', 'C:/Users/ninaz/Desktop/upwork/NLP Task/Data/4\\\\4447.html', 'C:/Users/ninaz/Desktop/upwork/NLP Task/Data/4\\\\4457.html', 'C:/Users/ninaz/Desktop/upwork/NLP Task/Data/4\\\\4904.html', 'C:/Users/ninaz/Desktop/upwork/NLP Task/Data/4\\\\4962.html', 'C:/Users/ninaz/Desktop/upwork/NLP Task/Data/4\\\\4977.html', 'C:/Users/ninaz/Desktop/upwork/NLP Task/Data/4\\\\5133.html', 'C:/Users/ninaz/Desktop/upwork/NLP Task/Data/4\\\\5272.html', 'C:/Users/ninaz/Desktop/upwork/NLP Task/Data/4\\\\5513.html', 'C:/Users/ninaz/Desktop/upwork/NLP Task/Data/4\\\\5768.html', 'C:/Users/ninaz/Desktop/upwork/NLP Task/Data/4\\\\5981.html', 'C:/Users/ninaz/Desktop/upwork/NLP Task/Data/4\\\\6176.html', 'C:/Users/ninaz/Desktop/upwork/NLP Task/Data/4\\\\6201.html', 'C:/Users/ninaz/Desktop/upwork/NLP Task/Data/5\\\\1750.html', 'C:/Users/ninaz/Desktop/upwork/NLP Task/Data/5\\\\1800.html', 'C:/Users/ninaz/Desktop/upwork/NLP Task/Data/5\\\\2034.html', 'C:/Users/ninaz/Desktop/upwork/NLP Task/Data/5\\\\2098.html', 'C:/Users/ninaz/Desktop/upwork/NLP Task/Data/5\\\\2178.html', 'C:/Users/ninaz/Desktop/upwork/NLP Task/Data/5\\\\2186.html', 'C:/Users/ninaz/Desktop/upwork/NLP Task/Data/5\\\\2488.html', 'C:/Users/ninaz/Desktop/upwork/NLP Task/Data/5\\\\2491.html', 'C:/Users/ninaz/Desktop/upwork/NLP Task/Data/5\\\\2969.html', 'C:/Users/ninaz/Desktop/upwork/NLP Task/Data/5\\\\3116.html', 'C:/Users/ninaz/Desktop/upwork/NLP Task/Data/5\\\\3197.html', 'C:/Users/ninaz/Desktop/upwork/NLP Task/Data/5\\\\3453.html', 'C:/Users/ninaz/Desktop/upwork/NLP Task/Data/5\\\\3499.html', 'C:/Users/ninaz/Desktop/upwork/NLP Task/Data/5\\\\3545.html', 'C:/Users/ninaz/Desktop/upwork/NLP Task/Data/5\\\\3570.html', 'C:/Users/ninaz/Desktop/upwork/NLP Task/Data/5\\\\4127.html', 'C:/Users/ninaz/Desktop/upwork/NLP Task/Data/5\\\\4187.html', 'C:/Users/ninaz/Desktop/upwork/NLP Task/Data/5\\\\4281.html', 'C:/Users/ninaz/Desktop/upwork/NLP Task/Data/5\\\\4447.html', 'C:/Users/ninaz/Desktop/upwork/NLP Task/Data/5\\\\4457.html', 'C:/Users/ninaz/Desktop/upwork/NLP Task/Data/5\\\\4904.html', 'C:/Users/ninaz/Desktop/upwork/NLP Task/Data/5\\\\4962.html', 'C:/Users/ninaz/Desktop/upwork/NLP Task/Data/5\\\\4977.html', 'C:/Users/ninaz/Desktop/upwork/NLP Task/Data/5\\\\5133.html', 'C:/Users/ninaz/Desktop/upwork/NLP Task/Data/5\\\\5272.html', 'C:/Users/ninaz/Desktop/upwork/NLP Task/Data/5\\\\5513.html', 'C:/Users/ninaz/Desktop/upwork/NLP Task/Data/5\\\\5768.html', 'C:/Users/ninaz/Desktop/upwork/NLP Task/Data/5\\\\5981.html', 'C:/Users/ninaz/Desktop/upwork/NLP Task/Data/5\\\\6176.html', 'C:/Users/ninaz/Desktop/upwork/NLP Task/Data/5\\\\6201.html']\n",
      "150\n"
     ]
    }
   ],
   "source": [
    "# grabs all html files in folder locations\n",
    "\n",
    "from glob import glob\n",
    "import codecs\n",
    "\n",
    "# first data file you sent\n",
    "filenames = glob(\"C:/Users/ninaz/Desktop/upwork/NLP Task/Data/1/*.html\") # change files directory and end it with /*.html\n",
    "filenames+= glob(\"C:/Users/ninaz/Desktop/upwork/NLP Task/Data/2/*.html\")\n",
    "filenames+= glob(\"C:/Users/ninaz/Desktop/upwork/NLP Task/Data/3/*.html\")\n",
    "filenames+= glob(\"C:/Users/ninaz/Desktop/upwork/NLP Task/Data/4/*.html\")\n",
    "filenames+= glob(\"C:/Users/ninaz/Desktop/upwork/NLP Task/Data/5/*.html\")\n",
    "\n",
    "# second data file you sent\n",
    "filenames2= glob(\"C:/Users/ninaz/Desktop/upwork/NLP Task/Dat/2015/*.html\")\n",
    "filenames2= glob(\"C:/Users/ninaz/Desktop/upwork/NLP Task/Dat/2016/*.html\")\n",
    "filenames2= glob(\"C:/Users/ninaz/Desktop/upwork/NLP Task/Dat/2017/*.html\")\n",
    "print(filenames) # this line is optional jsut to show the files names\n",
    "print(len(filenames))\n",
    "\n",
    "dataframe = [codecs.open(f, 'r', 'utf-8') for f in filenames]\n"
   ]
  },
  {
   "cell_type": "code",
   "execution_count": 22,
   "metadata": {},
   "outputs": [],
   "source": [
    "# extracts only text from html files and eliminates all html tags\n",
    "\n",
    "from bs4 import BeautifulSoup as soup\n",
    "\n",
    "# here im only implementing the code for the first html file since it will take too much time if you want to loop through all\n",
    "# of the them and if you will use the loop I highly recommend that you eliminate some files or pick one folder at a time\n",
    "\n",
    "#for file in dataframe:\n",
    "containers = soup(dataframe[10].read()).get_text()  \n",
    "clean_file = open('clean_file.csv', 'w+')  # creates the file if it doesnt exist\n",
    "for container in containers:\n",
    "    clean_file.write(container)\n",
    "clean_file.close()\n",
    "clean_file_occurrances = open('clean_file_occurrances.csv', 'w')\n"
   ]
  },
  {
   "cell_type": "code",
   "execution_count": 19,
   "metadata": {},
   "outputs": [
    {
     "name": "stdout",
     "output_type": "stream",
     "text": [
      "all found synonyms:  {'high': 0, 'heights': 0, 'senior_high_school': 0, 'senior_high': 0, 'highschool': 0, 'high_school': 0, 'high_gear': 0, 'eminent': 0, 'high-pitched': 0, 'in_high_spirits': 0, 'gamey': 0, 'gamy': 0, 'mellow': 0, 'high_up': 0, 'richly': 0, 'luxuriously': 0, 'competition': 0, 'contest': 0, 'contention': 0, 'rivalry': 0, 'rival': 0, 'challenger': 0, 'competitor': 0, 'contender': 0, 'technology': 0, 'engineering': 0, 'engineering_science': 0, 'applied_science': 0}\n"
     ]
    }
   ],
   "source": [
    "# getting all synonyms of specific words using wordnet library from nltk and store unique words in dictionary\n",
    "# this library automatically generates variances and relevant words to any string you give it then add them to dictionary\n",
    "\n",
    "from nltk.corpus import wordnet\n",
    "synonyms = {}\n",
    "for vsyn in wordnet.synsets(\"high\"):\n",
    "    for l in vsyn.lemmas():\n",
    "        synonyms[l.name()] = 0\n",
    "for vsyn in wordnet.synsets(\"competition\"):\n",
    "    for l in vsyn.lemmas():\n",
    "        synonyms[l.name()] = 0\n",
    "for vsyn in wordnet.synsets(\"technology\"):\n",
    "    for l in vsyn.lemmas():\n",
    "        synonyms[l.name()] = 0\n",
    "\n",
    "print('all found synonyms: ', synonyms)\n"
   ]
  },
  {
   "cell_type": "code",
   "execution_count": 23,
   "metadata": {},
   "outputs": [],
   "source": [
    "# searching through the new clean csv file created for synonyms and if found increment to the synonyms dictionary\n",
    "import re\n",
    "\n",
    "clean_file = open('clean_file.csv', 'r')\n",
    "\n",
    "high_comp_counter = 0       # optional\n",
    "technolog_comp_counter = 0  # optional\n",
    "\n",
    "# this part will search for the phrases in the clean text file created and print the whole sentence where it was found\n",
    "#  here as well as store it in the created file \"clean_file_occurrances\"\n",
    "for line in clean_file.readlines():\n",
    "    if line.strip() != '':\n",
    "        for word in synonyms:\n",
    "            if word in line:\n",
    "                synonyms[word]+= 1\n",
    "                print(line)\n",
    "                clean_file_occurrances.write(line)\n",
    "        if re.search(r\"high\\w* competit\\w+\", line.lower()):       # optional; I added search because synonyms dictionary\n",
    "            print(line)                                           # doesn't have all variances like :\n",
    "            high_comp_counter+= 1                                 # \"competitive\", \"technological\",,,,\n",
    "            clean_file_occurrances.write(line)                                 \n",
    "            \n",
    "        if re.search(r\"technolog\\w* competit\\w+\", line.lower()):  # optinal; \n",
    "            print(line)                                           \n",
    "            technolog_comp_counter+= 1                            \n",
    "            clean_file_occurrances.write(line)                    \n",
    "    \n",
    "clean_file_occurrances.close()\n",
    "clean_file.close()"
   ]
  },
  {
   "cell_type": "code",
   "execution_count": 24,
   "metadata": {},
   "outputs": [
    {
     "name": "stdout",
     "output_type": "stream",
     "text": [
      "occurrances of  high :  48\n",
      "occurrances of  competition :  9\n",
      "occurrances of  competitor :  13\n",
      "occurrances of  technology :  19\n",
      "occurrances of  engineering :  7\n"
     ]
    }
   ],
   "source": [
    "# prining the occurrances of synonyms that had appeared in the dataset more than zero times from the dictionary\n",
    "\n",
    "for word in synonyms:\n",
    "    if synonyms[word] != 0:\n",
    "        print('occurrances of ', word, ': ', synonyms[word])\n",
    "\n",
    "# these are optional and uncommment them if you want to use the \"search\" method i used above\n",
    "\n",
    "#print(\"total occurrances of high competition and it's variances: \", high_comp_counter)\n",
    "#print(\"total occurrances of technology competition and it's variances: \", technolog_comp_counter)\n"
   ]
  },
  {
   "cell_type": "code",
   "execution_count": null,
   "metadata": {},
   "outputs": [],
   "source": []
  }
 ],
 "metadata": {
  "kernelspec": {
   "display_name": "Python 3",
   "language": "python",
   "name": "python3"
  },
  "language_info": {
   "codemirror_mode": {
    "name": "ipython",
    "version": 3
   },
   "file_extension": ".py",
   "mimetype": "text/x-python",
   "name": "python",
   "nbconvert_exporter": "python",
   "pygments_lexer": "ipython3",
   "version": "3.7.6"
  }
 },
 "nbformat": 4,
 "nbformat_minor": 4
}
